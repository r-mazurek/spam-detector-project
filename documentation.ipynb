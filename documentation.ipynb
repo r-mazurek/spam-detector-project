{
 "cells": [
  {
   "cell_type": "markdown",
   "metadata": {},
   "source": [
    "### <div align=\"center\"><b><h3>Spam Email Detector - Personal Project</h3></b></div>\n",
    "#### Introduction\n",
    "In this project, I challenge myself to learn the basics of machine learning.\n",
    "\n",
    "<b>The problem:</b> Spam—we all receive it and know how annoying it can be. What if I could write a script that labels emails as spam if certain patterns are detected?\n",
    "\n",
    "<b>Solution:</b> Using a database of emails labeled as spam or ham, I will train a machine-learning model to accurately classify emails as potential spam.\n",
    "\n",
    "Let's see if it really was this easy:"
   ]
  },
  {
   "cell_type": "markdown",
   "metadata": {},
   "source": [
    "#### First Steps - Data Loading\n",
    "Firstly, I needed to find a database of pre-categorized emails. Fortunately, this was straightforward thanks to free databases available on the web. I used this one, kindly uploaded by M. Wiechmann, who slightly modified the original resource created by V. Metsis, I. Androutsopoulos, and G. Paliouras.\n",
    "\n",
    "Let's see what we have in there. As shown in the graph below, the distribution of ham and spam emails is fairly balanced in this database."
   ]
  },
  {
   "cell_type": "code",
   "execution_count": null,
   "metadata": {},
   "outputs": [
    {
     "data": {
      "image/png": "[encoded data removed]",
      "text/plain": [
       "<Figure size 640x480 with 1 Axes>"
      ]
     },
     "metadata": {},
     "output_type": "display_data"
    }
   ],
   "source": [
    "import pandas as pd\n",
    "import matplotlib.pyplot as plt\n",
    "\n",
    "data = pd.read_csv('enron_spam_data.csv')  # Load the dataset\n",
    "\n",
    "# Visualize the distribution of spam vs. non-spam emails\n",
    "data['Spam/Ham'].value_counts().plot(kind='bar')\n",
    "plt.title('Spam vs Non-Spam Emails')  # Set the plot title\n",
    "plt.xlabel('Label')  # X-axis label\n",
    "plt.ylabel('Count')  # Y-axis label\n",
    "plt.show()  # Display the plot"
   ]
  },
  {
   "cell_type": "markdown",
   "metadata": {},
   "source": [
    "#### Data Preparation\n",
    "I cannot use this data in its current state because it contains many unnecessary columns and the text is not in the right format. During the data preparation process, I:\n",
    "\n",
    "First stripped the CSV of unnecessary columns and dropped any empty values.\n",
    "\n",
    "Next, I filtered out punctuation and stopwords—commonly used words that do not contribute to the model’s ability to label emails (like \"the\" or \"and\"). This task is heavily facilitated by the NLTK library, which provides easy access to pre-made lists of punctuation and English stopwords.\n",
    "\n",
    "Near the end, I tokenized each of the values, breaking them down into individual words.\n",
    "\n",
    "Finally, I assigned the email's subject and contents to X and the Spam/Ham categorization to Y. This way, we can easily train the model later, showing it how input X results in output Y, allowing it to identify any patterns."
   ]
  },
  {
   "cell_type": "code",
   "execution_count": null,
   "metadata": {},
   "outputs": [],
   "source": [
    "import nltk\n",
    "from nltk.tokenize import word_tokenize\n",
    "from nltk.corpus import stopwords\n",
    "\n",
    "nltk.data.path.append('nltk_data')  # Set NLTK data path\n",
    "\n",
    "data = data.drop(columns=['Message ID', 'Date'])  # Remove unnecessary columns\n",
    "data = data.dropna()  # Drop rows with missing values\n",
    "\n",
    "def preprocess_text(text):\n",
    "    text = text.lower().strip()  # Lowercase and strip whitespace\n",
    "    tokens = word_tokenize(text)  # Tokenize text\n",
    "    stop_words = set(stopwords.words('english'))  # Set of stopwords\n",
    "    tokens = [word for word in tokens if word.isalnum() and word not in stop_words]  # Filter tokens\n",
    "    return ' '.join(tokens)  # Return cleaned text\n",
    "\n",
    "# Apply preprocessing to Subject and Message columns\n",
    "data['cleaned_subject'] = data['Subject'].apply(preprocess_text)\n",
    "data['cleaned_message'] = data['Message'].apply(preprocess_text)\n",
    "\n",
    "X = data['cleaned_subject'] + ' ' + data['cleaned_message']  # Combine cleaned text\n",
    "y = data['Spam/Ham']  # Target variable"
   ]
  },
  {
   "cell_type": "markdown",
   "metadata": {},
   "source": [
    "Now that the data is pre-processed, I need to vectorize it for the machine-learning algorithm to understand it, converting the values into numerical representations. To do this, I’m using a TF-IDF (Term Frequency-Inverse Document Frequency) vectorizer.\n",
    "\n",
    "Similarly, the Spam/Ham categorization also needs to be converted to numerical values. I use a Label Encoder, which assigns the value \"0\" to Spam and \"1\" to Ham."
   ]
  },
  {
   "cell_type": "code",
   "execution_count": null,
   "metadata": {},
   "outputs": [],
   "source": [
    "from sklearn.preprocessing import LabelEncoder\n",
    "from sklearn.feature_extraction.text import TfidfVectorizer\n",
    "\n",
    "vectorizer = TfidfVectorizer()  # Initialize the TF-IDF vectorizer\n",
    "X = vectorizer.fit_transform(data['cleaned_subject'] + ' ' + data['cleaned_message'])  # Transform the text data\n",
    "\n",
    "le = LabelEncoder()\n",
    "y_encoded = le.fit_transform(y)  # Encode labels: \"0\" for Spam and \"1\" for Ham"
   ]
  },
  {
   "cell_type": "markdown",
   "metadata": {},
   "source": [
    "#### Data Splitting\n",
    "I could use all the data to train the model; however, I would also need a separate set to evaluate its effectiveness. It is common practice to split the data into a training set and a testing set. This way, one dataset is used for training the model, while the other is used to assess its performance.\n",
    "\n",
    "Splitting the data is straightforward, thanks to a sublibrary in scikit-learn. I simply define the variables and the test size, and appropriate values are automatically assigned.\n",
    "\n",
    "In this example, I use 90% of the data to train the model and 10% to test it later."
   ]
  },
  {
   "cell_type": "code",
   "execution_count": null,
   "metadata": {},
   "outputs": [],
   "source": [
    "from sklearn.model_selection import train_test_split\n",
    "\n",
    "# Split the data into training and testing sets (90% train, 10% test)\n",
    "X_train, X_test, y_train, y_test = train_test_split(X, y_encoded, test_size=0.1)"
   ]
  },
  {
   "cell_type": "markdown",
   "metadata": {},
   "source": [
    "#### Machine Learning Model Training\n",
    "For this project, I chose the Multinomial Naive Bayes model, which is a common choice due to its effectiveness in text classification (particularly spam detection), ability to handle high-dimensional data, relatively low training time, and real-time prediction capabilities.\n",
    "\n",
    "The model works by counting the occurrences of each word in an email and using these counts to calculate the probability that the email is spam or ham, based on patterns learned from the training dataset.\n",
    "\n",
    "Training the model on the pre-processed data is straightforward. I use the .fit() function from the scikit-learn library."
   ]
  },
  {
   "cell_type": "code",
   "execution_count": null,
   "metadata": {},
   "outputs": [],
   "source": [
    "from sklearn.naive_bayes import MultinomialNB\n",
    "\n",
    "model = MultinomialNB()  # Initialize the Multinomial Naive Bayes model\n",
    "\n",
    "model.fit(X_train, y_train)  # Train the model with training data\n",
    "\n",
    "y_pred = model.predict(X_test)  # Predict outputs for the test data"
   ]
  },
  {
   "cell_type": "markdown",
   "metadata": {},
   "source": [
    "#### Visualizing How the Model Works\n",
    "At this point, the model is trained. Although I understand how it works, I wanted to visualize the model's findings. What makes an email more likely to be classified as Spam? And what about Ham?\n",
    "\n",
    "Using the code below, I create a visualization of the top 10 words indicative of each type of email. It is evident that Spam emails commonly mention money."
   ]
  },
  {
   "cell_type": "code",
   "execution_count": 1,
   "metadata": {},
   "outputs": [
    {
     "ename": "NameError",
     "evalue": "name 'model' is not defined",
     "output_type": "error",
     "traceback": [
      "\u001b[0;31m---------------------------------------------------------------------------\u001b[0m",
      "\u001b[0;31mNameError\u001b[0m                                 Traceback (most recent call last)",
      "Cell \u001b[0;32mIn[1], line 25\u001b[0m\n\u001b[1;32m     22\u001b[0m     plt\u001b[38;5;241m.\u001b[39mlegend()\n\u001b[1;32m     23\u001b[0m     plt\u001b[38;5;241m.\u001b[39mshow()\n\u001b[0;32m---> 25\u001b[0m plot_feature_importance(model, vectorizer)\n",
      "\u001b[0;31mNameError\u001b[0m: name 'model' is not defined"
     ]
    }
   ],
   "source": [
    "# Import necessary libraries for visualization\n",
    "import numpy as np\n",
    "import seaborn as sns\n",
    "from sklearn.metrics import confusion_matrix, ConfusionMatrixDisplay\n",
    "\n",
    "def plot_feature_importance(model, vectorizer):\n",
    "    feature_names = vectorizer.get_feature_names_out()\n",
    "    log_probs = model.feature_log_prob_\n",
    "    \n",
    "    spam_importance = log_probs[1]\n",
    "    ham_importance = log_probs[0]\n",
    "    \n",
    "    top_n = 10\n",
    "    spam_indices = np.argsort(spam_importance)[-top_n:]\n",
    "    ham_indices = np.argsort(ham_importance)[-top_n:]\n",
    "\n",
    "    plt.figure(figsize=(10, 5))\n",
    "    plt.barh(feature_names[spam_indices], spam_importance[spam_indices], color='red', label='Spam')\n",
    "    plt.barh(feature_names[ham_indices], ham_importance[ham_indices], color='blue', label='Ham', alpha=0.5)\n",
    "    plt.xlabel('Log Probability')\n",
    "    plt.title(f'Top {top_n} Features for Spam and Ham Classification')\n",
    "    plt.legend()\n",
    "    plt.show()\n",
    "\n",
    "plot_feature_importance(model, vectorizer)\n"
   ]
  },
  {
   "cell_type": "markdown",
   "metadata": {},
   "source": [
    "#### Model testing\n",
    "Awesome! I've got my model up and running. Now it's time to test it's accurracy. Thankfully in the sklearn library there are many built-in functions that make it a breeze."
   ]
  },
  {
   "cell_type": "code",
   "execution_count": null,
   "metadata": {},
   "outputs": [
    {
     "ename": "NameError",
     "evalue": "name 'y_test' is not defined",
     "output_type": "error",
     "traceback": [
      "\u001b[0;31m---------------------------------------------------------------------------\u001b[0m",
      "\u001b[0;31mNameError\u001b[0m                                 Traceback (most recent call last)",
      "Cell \u001b[0;32mIn[2], line 3\u001b[0m\n\u001b[1;32m      1\u001b[0m \u001b[38;5;28;01mfrom\u001b[39;00m \u001b[38;5;21;01msklearn\u001b[39;00m\u001b[38;5;21;01m.\u001b[39;00m\u001b[38;5;21;01mmetrics\u001b[39;00m \u001b[38;5;28;01mimport\u001b[39;00m accuracy_score, confusion_matrix\n\u001b[0;32m----> 3\u001b[0m accuracy \u001b[38;5;241m=\u001b[39m accuracy_score(y_test, y_pred)\n\u001b[1;32m      4\u001b[0m \u001b[38;5;28mprint\u001b[39m(\u001b[38;5;124mf\u001b[39m\u001b[38;5;124m\"\u001b[39m\u001b[38;5;124mAccuracy: \u001b[39m\u001b[38;5;132;01m{\u001b[39;00maccuracy\u001b[38;5;132;01m}\u001b[39;00m\u001b[38;5;124m\"\u001b[39m)\n\u001b[1;32m      6\u001b[0m confusion_matrix \u001b[38;5;241m=\u001b[39m confusion_matrix(y_test, y_pred)\n",
      "\u001b[0;31mNameError\u001b[0m: name 'y_test' is not defined"
     ]
    }
   ],
   "source": [
    "from sklearn.metrics import accuracy_score, confusion_matrix\n",
    "\n",
    "accuracy = accuracy_score(y_test, y_pred)  # Calculate the accuracy of the model\n",
    "print(f\"Accuracy: {accuracy}\")\n",
    "\n",
    "conf_matrix = confusion_matrix(y_test, y_pred)  # Generate the confusion matrix\n",
    "\n",
    "# Display counts of correct and incorrect predictions for each class\n",
    "print(f\"Spam labeled right/wrong: {conf_matrix[0][0]} / {conf_matrix[0][1]}\")\n",
    "print(f\"Ham labeled right/wrong: {conf_matrix[1][0]} / {conf_matrix[1][1]}\")"
   ]
  },
  {
   "cell_type": "markdown",
   "metadata": {},
   "source": [
    "#### Fine Tuning\n",
    "Although the model is already trained, it uses default hyperparameters. There is a possibility that we can improve the model's accuracy by tweaking some of these values. One of the most common methods to find optimal hyperparameters is using Randomized Search. This technique randomly samples values from a specified range to identify the best ones.\n",
    "\n",
    "This process takes some time, as the model needs to be trained and tested repeatedly before reporting the best values."
   ]
  },
  {
   "cell_type": "code",
   "execution_count": null,
   "metadata": {},
   "outputs": [
    {
     "name": "stdout",
     "output_type": "stream",
     "text": [
      "Fitting 3 folds for each of 10 candidates, totalling 30 fits\n",
      "Best Parameters: {'alpha': 0.1}\n",
      "Best Cross-validation Score: 0.9889246878775674\n"
     ]
    }
   ],
   "source": [
    "from sklearn.model_selection import RandomizedSearchCV\n",
    "import numpy as np\n",
    "\n",
    "# Define the hyperparameter distribution\n",
    "param_distributions = {\n",
    "    'alpha': np.linspace(0.1, 2.0, 10)  # Range of alpha values for optimization\n",
    "}\n",
    "\n",
    "# Setup RandomizedSearchCV\n",
    "random_search = RandomizedSearchCV(estimator=model, param_distributions=param_distributions, \n",
    "                                   n_iter=10, scoring='accuracy', cv=3, verbose=1, random_state=42)\n",
    "\n",
    "# Fit the model to find the best hyperparameters\n",
    "random_search.fit(X_train, y_train)\n",
    "\n",
    "# Output the best parameters found\n",
    "print(\"Best Parameters:\", random_search.best_params_)"
   ]
  },
  {
   "cell_type": "markdown",
   "metadata": {},
   "source": [
    "Let's evaluate the model's accuracy with the best parameters. As shown below, I managed to achieve slightly better performance using the Randomized Search technique."
   ]
  },
  {
   "cell_type": "code",
   "execution_count": null,
   "metadata": {},
   "outputs": [
    {
     "name": "stdout",
     "output_type": "stream",
     "text": [
      "Accuracy: 0.9855028692237995\n",
      "              precision    recall  f1-score   support\n",
      "\n",
      "           0       0.98      0.99      0.99      1606\n",
      "           1       0.99      0.98      0.99      1705\n",
      "\n",
      "    accuracy                           0.99      3311\n",
      "   macro avg       0.99      0.99      0.99      3311\n",
      "weighted avg       0.99      0.99      0.99      3311\n",
      "\n",
      "[[1586   20]\n",
      " [  28 1677]]\n",
      "Test Accuracy with Best Parameters: 0.988221081244337\n"
     ]
    }
   ],
   "source": [
    "# Get the best model from the randomized search\n",
    "best_model = random_search.best_estimator_\n",
    "\n",
    "# Evaluate the test accuracy of the best model\n",
    "test_accuracy = best_model.score(X_test, y_test)\n",
    "\n",
    "# Output the test accuracy with the best parameters\n",
    "print(\"Test Accuracy with Best Parameters:\", test_accuracy)"
   ]
  },
  {
   "cell_type": "markdown",
   "metadata": {},
   "source": [
    "#### Manual Testing\n",
    "Now, I'd like to test the model by composing an email myself and observing how it is labeled. I'll start by defining a function that accomplishes this."
   ]
  },
  {
   "cell_type": "code",
   "execution_count": null,
   "metadata": {},
   "outputs": [],
   "source": [
    "def predict_email(subject, message):\n",
    "    # Preprocess the subject and message\n",
    "    cleaned_subject = preprocess_text(subject)\n",
    "    cleaned_message = preprocess_text(message)\n",
    "    \n",
    "    # Combine cleaned subject and message\n",
    "    custom_email = cleaned_subject + ' ' + cleaned_message\n",
    "    \n",
    "    # Vectorize the combined email text\n",
    "    custom_email_vectorized = vectorizer.transform([custom_email]).toarray()\n",
    "    \n",
    "    # Make a prediction using the best model\n",
    "    prediction = best_model.predict(custom_email_vectorized)\n",
    "    \n",
    "    # Return the label corresponding to the predicted class\n",
    "    return le.inverse_transform(prediction)[0]"
   ]
  },
  {
   "cell_type": "markdown",
   "metadata": {},
   "source": [
    "Everything is ready for testing now. Feel free to modify the inputs and explore how it works!"
   ]
  },
  {
   "cell_type": "code",
   "execution_count": null,
   "metadata": {},
   "outputs": [
    {
     "name": "stdout",
     "output_type": "stream",
     "text": [
      "The email is predicted to be: ham\n"
     ]
    }
   ],
   "source": [
    "# Test the email prediction function with a sample subject and message. Try it yourself!\n",
    "result = predict_email(\"Buy our latest product!\", \"We invite you to buy our company's newest product!\")\n",
    "\n",
    "print(f\"The email is predicted to be: {result}.\")"
   ]
  },
  {
   "cell_type": "markdown",
   "metadata": {},
   "source": [
    "#### Saving the Model and the Vectorizer\n",
    "Now that the model is functioning and I've identified the best parameters, I would like to save it. This way, I don't have to undergo resource-intensive training each time I want to utilize its labeling capabilities. This task can be easily accomplished using the joblib library.\n",
    "\n",
    "I will save both the best model and the vectorizer for easy access later using the code below."
   ]
  },
  {
   "cell_type": "code",
   "execution_count": null,
   "metadata": {},
   "outputs": [],
   "source": [
    "from joblib import dump\n",
    "\n",
    "# Save the trained model to a file for future use\n",
    "dump(best_model, 'spam_detection_best_model.joblib')\n",
    "\n",
    "# Save the vectorizer to a file for later access\n",
    "dump(vectorizer, 'vectorizer.joblib')"
   ]
  }
 ],
 "metadata": {
  "kernelspec": {
   "display_name": "base",
   "language": "python",
   "name": "python3"
  },
  "language_info": {
   "codemirror_mode": {
    "name": "ipython",
    "version": 3
   },
   "file_extension": ".py",
   "mimetype": "text/x-python",
   "name": "python",
   "nbconvert_exporter": "python",
   "pygments_lexer": "ipython3",
   "version": "3.12.7"
  }
 },
 "nbformat": 4,
 "nbformat_minor": 2
}
