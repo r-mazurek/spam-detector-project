{
 "cells": [
  {
   "cell_type": "markdown",
   "metadata": {},
   "source": [
    "### <div align=\"center\"><b><h3>Spam Email Detector - Personal Project</h3></b></div>"
   ]
  },
  {
   "cell_type": "markdown",
   "metadata": {},
   "source": [
    "#### Introduction"
   ]
  },
  {
   "cell_type": "markdown",
   "metadata": {},
   "source": [
    "In this project, I challenge myself to learn the basics of machine learning by solving a real-world inconveniece.\n",
    "\n",
    "<b>The problem:</b> Spam - we all receive it and know how annoying it can be. What if I could write a script that labels emails as spam if certain patterns are detected?\n",
    "\n",
    "<b>Solution:</b> Using a database of emails labeled as spam or ham, I will train a machine-learning model to accurately classify emails as potential spam.\n",
    "At the end, I will create a simple GUI, allowing people without coding knowledge to easily take advantage of the app.\n",
    "\n",
    "Below I show step-by-step how I went about creating it."
   ]
  },
  {
   "cell_type": "markdown",
   "metadata": {},
   "source": [
    "#### 1. Data Loading & Initial Analysis"
   ]
  },
  {
   "cell_type": "markdown",
   "metadata": {},
   "source": [
    "Firstly, I needed to find a database of pre-categorized emails. Fortunately, this was straightforward thanks to free databases available on the web. \n",
    "I used [this one](https://github.com/MWiechmann/enron_spam_data), kindly uploaded by M. Wiechmann, who slightly modified the original resource created by V. Metsis, I. Androutsopoulos, and G. Paliouras.\n",
    "\n",
    "It's a dataset of over 30k hand-labled emails, about half of which are spam. It's commonly used for learning purposes.\n",
    "\n",
    "Spam e-mails are labled as <i>Spam</i>, while non-spam e-mails are labled as <i>Ham</b>."
   ]
  },
  {
   "cell_type": "markdown",
   "metadata": {},
   "source": [
    "Let's visualize this set better. To do this, I'm using the pandas and matplotlib libraries. I start by loading the data into a variable and then create a graph.\n",
    "\n",
    "As shown below, the distribution of ham and spam emails is indeed balanced with slightly more labled as spam."
   ]
  },
  {
   "cell_type": "code",
   "execution_count": 1,
   "metadata": {},
   "outputs": [
    {
     "data": {
      "image/png": "[encoded data removed]",
      "text/plain": [
       "<Figure size 640x480 with 1 Axes>"
      ]
     },
     "metadata": {},
     "output_type": "display_data"
    }
   ],
   "source": [
    "import pandas as pd\n",
    "import matplotlib.pyplot as plt\n",
    "\n",
    "data = pd.read_csv('enron_spam_data.csv')  # Load the dataset\n",
    "\n",
    "# Visualize the distribution of spam vs. non-spam emails\n",
    "data['Spam/Ham'].value_counts().plot(kind='bar')\n",
    "plt.title('Spam vs Non-Spam Emails')  # Set the plot title\n",
    "plt.xlabel('Label')  # X-axis label\n",
    "plt.ylabel('Count')  # Y-axis label\n",
    "plt.show()  # Display the plot"
   ]
  },
  {
   "cell_type": "markdown",
   "metadata": {},
   "source": [
    "#### 2. Data Preparation"
   ]
  },
  {
   "cell_type": "markdown",
   "metadata": {},
   "source": [
    "As it is right now, the data is not ready to be used as a training set for a machine learning model. It contains some unneccessary columns and is not in a format the model will understand. Let's prepare the data step-by-step."
   ]
  },
  {
   "cell_type": "markdown",
   "metadata": {},
   "source": [
    "The CSV I'm using alongside the e-mail's subject and contents, also supplies information about the date it was received and the message's ID. I found both of these values redundant in the training process and because they don't provide any value to the model, I will delete them from the dataset.\n",
    "\n",
    "Simmilarly, any empty/missing values will be of no help too. That's why I drop them right after.\n",
    "\n",
    "To do this, I'm using the nltk library. With two simple commands we are one step further to the dataset being ready."
   ]
  },
  {
   "cell_type": "code",
   "execution_count": null,
   "metadata": {},
   "outputs": [],
   "source": [
    "import nltk\n",
    "\n",
    "data = data.drop(columns=['Message ID', 'Date'])  # Remove unnecessary columns\n",
    "data = data.dropna()  # Drop rows with missing values"
   ]
  },
  {
   "cell_type": "markdown",
   "metadata": {},
   "source": [
    "Now let's focus on the subject and the e-mail's contents. \n",
    "\n",
    "Punctuation doesn't help the model either, so let's delete all of it. Also, let's make all the words lowercase to remove case-sensivity.\n",
    "\n",
    "We can go a step further though. Throughout the e-mail there is going to be a lot of commonly used words, which will be present both in spam and ham messages. These words are called <i> stopwords </i>. A common example of a stopword would be \"the\", \"a\" or \"is\". During this step I will also make sure to exempt these words from the dataset.\n",
    "\n",
    "The workflow will be simple. Let's disect both the subject and the message into single words (<i>tokenization</i>). \n",
    "Then, let's make sure the word is indeed a word (so of a alphanumerical value), is stripped of any punctuation and is not a stopword. \n",
    "\n",
    "This proccess is hevily facilitated by the nltk library, which allows me to quickly download and use a list of stopwords in variety of languages.\n",
    "\n",
    "All of these steps are handled within the <i> preprocess_test() </i> function defined bellow.\n"
   ]
  },
  {
   "cell_type": "code",
   "execution_count": null,
   "metadata": {},
   "outputs": [],
   "source": [
    "from nltk.tokenize import word_tokenize\n",
    "from nltk.corpus import stopwords\n",
    "\n",
    "nltk.data.path.append('nltk_data')  # Set NLTK data path (containing stopwords)\n",
    "\n",
    "def preprocess_text(text):\n",
    "    text = text.lower().strip()  # Lowercase and strip whitespace\n",
    "    tokens = word_tokenize(text)  # Tokenize text\n",
    "    stop_words = set(stopwords.words('english'))  # Set of stopwords\n",
    "    tokens = [word for word in tokens if word.isalnum() and word not in stop_words]  # Filter tokens\n",
    "    return ' '.join(tokens)  # Return cleaned text"
   ]
  },
  {
   "cell_type": "markdown",
   "metadata": {},
   "source": [
    "Now that the function is defined, let's apply it both to the subject and the e-mail's contents. \n",
    "\n",
    "This task is achieved very easily with the use of <i>.apply()</i> method."
   ]
  },
  {
   "cell_type": "code",
   "execution_count": null,
   "metadata": {},
   "outputs": [],
   "source": [
    "# Apply preprocessing to Subject and Message columns\n",
    "data['cleaned_subject'] = data['Subject'].apply(preprocess_text)\n",
    "data['cleaned_message'] = data['Message'].apply(preprocess_text)"
   ]
  },
  {
   "cell_type": "markdown",
   "metadata": {},
   "source": [
    "Finally, let's combined cleaned subjects and cleaned messages into one dataset called <i>X</i>. \n",
    "\n",
    "Simmilarly, let's assign all the Spam/Ham labels to the <i>y</i> variable."
   ]
  },
  {
   "cell_type": "code",
   "execution_count": null,
   "metadata": {},
   "outputs": [],
   "source": [
    "X = data['cleaned_subject'] + ' ' + data['cleaned_message']  # Combine cleaned text\n",
    "y = data['Spam/Ham']  # Target variable"
   ]
  },
  {
   "cell_type": "markdown",
   "metadata": {},
   "source": [
    "Altough much has been done, the data is not ready just yet. In order for the machine-learning algorithm to understand it, I need to convert all values into numerical representations.\n",
    "\n",
    "Let's start with <i>X</i>, so the e-mail subject and contents.\n",
    "To convert it, I'll be using a TF-IDF (Term Frequency-Inverse Document Frequency) vectorizer.\n",
    "\n",
    "<b>TODO explain how it works here</b>\n"
   ]
  },
  {
   "cell_type": "code",
   "execution_count": null,
   "metadata": {},
   "outputs": [],
   "source": [
    "from sklearn.feature_extraction.text import TfidfVectorizer\n",
    "\n",
    "vectorizer = TfidfVectorizer()  # Initialize the TF-IDF vectorizer\n",
    "X = vectorizer.fit_transform(data['cleaned_subject'] + ' ' + data['cleaned_message'])  # Transform the text data"
   ]
  },
  {
   "cell_type": "markdown",
   "metadata": {},
   "source": [
    "Similarly, the Spam/Ham categorization also needs to be converted to numerical values, however it's much simpler here as there are only two possible values. \n",
    "\n",
    "I'll use a Label Encoder, which assigns the value \"0\" to Spam and \"1\" to Ham."
   ]
  },
  {
   "cell_type": "code",
   "execution_count": null,
   "metadata": {},
   "outputs": [],
   "source": [
    "from sklearn.preprocessing import LabelEncoder\n",
    "\n",
    "le = LabelEncoder() # Initialize the Label Encoder\n",
    "y_encoded = le.fit_transform(y)  # Encode labels: \"0\" for Spam and \"1\" for Ham"
   ]
  },
  {
   "cell_type": "markdown",
   "metadata": {},
   "source": [
    "Now, the data is ready to be used for training."
   ]
  },
  {
   "cell_type": "markdown",
   "metadata": {},
   "source": [
    "#### 3. Data Splitting"
   ]
  },
  {
   "cell_type": "markdown",
   "metadata": {},
   "source": [
    "I could use all the data to train the model; however, I would also need a separate set to evaluate its effectiveness. It is a common practice to split the data into a training set and a testing set. This way, one dataset is used for training the model, while the other is used to assess its performance."
   ]
  },
  {
   "cell_type": "markdown",
   "metadata": {},
   "source": [
    "Splitting the data is straightforward, thanks to the <i>train_test_split()</i> function, found in a subpackage of the scikit-learn library. \n",
    "\n",
    "I simply define the variables and the test size, and appropriate values are automatically assigned."
   ]
  },
  {
   "cell_type": "code",
   "execution_count": null,
   "metadata": {},
   "outputs": [],
   "source": [
    "from sklearn.model_selection import train_test_split\n",
    "\n",
    "# Split the data into training and testing sets (90% train, 10% test)\n",
    "X_train, X_test, y_train, y_test = train_test_split(X, y_encoded, test_size=0.1)"
   ]
  },
  {
   "cell_type": "markdown",
   "metadata": {},
   "source": [
    "In the example above, I use 90% of the data to train the model and 10% to test it later."
   ]
  },
  {
   "cell_type": "markdown",
   "metadata": {},
   "source": [
    "#### 4. Choosing the machine learning model"
   ]
  },
  {
   "cell_type": "markdown",
   "metadata": {},
   "source": [
    "i chose multinomial naive bayes because its very skibidi sigma"
   ]
  },
  {
   "cell_type": "markdown",
   "metadata": {},
   "source": [
    "#### 5.1 Machine Learning Model Training"
   ]
  },
  {
   "cell_type": "markdown",
   "metadata": {},
   "source": [
    "For this project, I chose the Multinomial Naive Bayes model, which is a common choice due to its effectiveness in text classification (particularly spam detection), ability to handle high-dimensional data, relatively low training time, and real-time prediction capabilities.\n",
    "\n",
    "The model works by counting the occurrences of each word in an email and using these counts to calculate the probability that the email is spam or ham, based on patterns learned from the training dataset.\n",
    "\n",
    "Training the model on the pre-processed data is straightforward. I use the .fit() function from the scikit-learn library."
   ]
  },
  {
   "cell_type": "code",
   "execution_count": 5,
   "metadata": {},
   "outputs": [],
   "source": [
    "from sklearn.naive_bayes import MultinomialNB\n",
    "\n",
    "model = MultinomialNB()  # Initialize the Multinomial Naive Bayes model\n",
    "\n",
    "model.fit(X_train, y_train)  # Train the model with training data\n",
    "\n",
    "y_pred = model.predict(X_test)  # Predict outputs for the test data"
   ]
  },
  {
   "cell_type": "markdown",
   "metadata": {},
   "source": [
    "#### 5.2 Visualizing How the Model Works"
   ]
  },
  {
   "cell_type": "markdown",
   "metadata": {},
   "source": [
    "At this point, the model is trained. Although I understand how it works, I wanted to visualize the model's findings. What makes an email more likely to be classified as Spam? And what about Ham?\n",
    "\n",
    "Using the code below, I create a visualization of the top 10 words indicative of each type of email."
   ]
  },
  {
   "cell_type": "code",
   "execution_count": 6,
   "metadata": {},
   "outputs": [
    {
     "data": {
      "image/png": "[encoded data removed]",
      "text/plain": [
       "<Figure size 1000x500 with 1 Axes>"
      ]
     },
     "metadata": {},
     "output_type": "display_data"
    }
   ],
   "source": [
    "# Import necessary libraries for visualization\n",
    "import numpy as np\n",
    "import seaborn as sns\n",
    "from sklearn.metrics import confusion_matrix, ConfusionMatrixDisplay\n",
    "\n",
    "def plot_feature_importance(model, vectorizer):\n",
    "    feature_names = vectorizer.get_feature_names_out()\n",
    "    log_probs = model.feature_log_prob_\n",
    "    \n",
    "    spam_importance = log_probs[1]\n",
    "    ham_importance = log_probs[0]\n",
    "    \n",
    "    top_n = 10\n",
    "    spam_indices = np.argsort(spam_importance)[-top_n:]\n",
    "    ham_indices = np.argsort(ham_importance)[-top_n:]\n",
    "\n",
    "    plt.figure(figsize=(10, 5))\n",
    "    plt.barh(feature_names[spam_indices], spam_importance[spam_indices], color='red', label='Spam')\n",
    "    plt.barh(feature_names[ham_indices], ham_importance[ham_indices], color='blue', label='Ham', alpha=0.5)\n",
    "    plt.xlabel('Log Probability')\n",
    "    plt.title(f'Top {top_n} Features for Spam and Ham Classification')\n",
    "    plt.legend()\n",
    "    plt.show()\n",
    "\n",
    "plot_feature_importance(model, vectorizer)\n"
   ]
  },
  {
   "cell_type": "markdown",
   "metadata": {},
   "source": [
    "As shown on the graph above, it is evident that Spam emails commonly mention money or companies, contain calls-to-action and are abundant in links.\n",
    "\n",
    "On the other hand, Ham e-mails seem to have less of a  unified pattern, though we do see that it's common to see a mention of time (\"pm\") and polite words (\"thanks\", \"please\")."
   ]
  },
  {
   "cell_type": "markdown",
   "metadata": {},
   "source": [
    "#### 6. Initial Model's Evaluation"
   ]
  },
  {
   "cell_type": "markdown",
   "metadata": {},
   "source": [
    "Awesome! I've got my model up and running. Now it's time to test it's accurracy. Thankfully in the sklearn library there are many built-in functions that make it a breeze."
   ]
  },
  {
   "cell_type": "code",
   "execution_count": 13,
   "metadata": {},
   "outputs": [
    {
     "name": "stdout",
     "output_type": "stream",
     "text": [
      "Accuracy: 0.988221081244337\n",
      "Spam labeled right/wrong: 1638 / 16\n",
      "Ham labeled right/wrong: 1634 / 23\n"
     ]
    }
   ],
   "source": [
    "from sklearn.metrics import accuracy_score, confusion_matrix\n",
    "\n",
    "accuracy = accuracy_score(y_test, y_pred)  # Calculate the accuracy of the model\n",
    "print(f\"Accuracy: {accuracy}\")\n",
    "\n",
    "conf_matrix = confusion_matrix(y_test, y_pred)  # Generate the confusion matrix\n",
    "\n",
    "# Display counts of correct and incorrect predictions for each class\n",
    "print(f\"Spam labeled right/wrong: {conf_matrix[0][0]} / {conf_matrix[0][1]}\")\n",
    "print(f\"Ham labeled right/wrong: {conf_matrix[1][1]} / {conf_matrix[1][0]}\")"
   ]
  },
  {
   "cell_type": "markdown",
   "metadata": {},
   "source": [
    "#### 7. Hyperparameter Tuning Using Randomized Search"
   ]
  },
  {
   "cell_type": "markdown",
   "metadata": {},
   "source": [
    "Although the model is already trained, it uses default hyperparameters. There is a possibility that we can improve the model's accuracy by tweaking some of these values. One of the most common methods to find optimal hyperparameters is using Randomized Search. This technique randomly samples values from a specified range to identify the best ones.\n",
    "\n",
    "This process takes some time, as the model needs to be trained and tested repeatedly before reporting the best values."
   ]
  },
  {
   "cell_type": "code",
   "execution_count": 8,
   "metadata": {},
   "outputs": [
    {
     "name": "stdout",
     "output_type": "stream",
     "text": [
      "Fitting 3 folds for each of 10 candidates, totalling 30 fits\n",
      "Best Parameters: {'alpha': 0.1}\n"
     ]
    }
   ],
   "source": [
    "from sklearn.model_selection import RandomizedSearchCV\n",
    "import numpy as np\n",
    "\n",
    "# Define the hyperparameter distribution\n",
    "param_distributions = {\n",
    "    'alpha': np.linspace(0.1, 2.0, 10)  # Range of alpha values for optimization\n",
    "}\n",
    "\n",
    "# Setup RandomizedSearchCV\n",
    "random_search = RandomizedSearchCV(estimator=model, param_distributions=param_distributions, \n",
    "                                   n_iter=10, scoring='accuracy', cv=3, verbose=1, random_state=42)\n",
    "\n",
    "# Fit the model to find the best hyperparameters\n",
    "random_search.fit(X_train, y_train)\n",
    "\n",
    "# Output the best parameters found\n",
    "print(\"Best Parameters:\", random_search.best_params_)"
   ]
  },
  {
   "cell_type": "markdown",
   "metadata": {},
   "source": [
    "#### 8. Optimized Model's Evaluation"
   ]
  },
  {
   "cell_type": "markdown",
   "metadata": {},
   "source": [
    "Now, let's evaluate the model's accuracy with the best parameters."
   ]
  },
  {
   "cell_type": "code",
   "execution_count": 9,
   "metadata": {},
   "outputs": [
    {
     "name": "stdout",
     "output_type": "stream",
     "text": [
      "Test Accuracy with Best Parameters: 0.9912413168227122\n"
     ]
    }
   ],
   "source": [
    "# Get the best model from the randomized search\n",
    "best_model = random_search.best_estimator_\n",
    "\n",
    "# Evaluate the test accuracy of the best model\n",
    "test_accuracy = best_model.score(X_test, y_test)\n",
    "\n",
    "# Output the test accuracy with the best parameters\n",
    "print(\"Test Accuracy with Best Parameters:\", test_accuracy)"
   ]
  },
  {
   "cell_type": "markdown",
   "metadata": {},
   "source": [
    "As shown above, the Randomized Search technique helped increase the model's accurracy by 0.31%, therefore <b>reducing the error rate by 25.6%</b>.\n",
    "\n",
    "It's a substantial improvement, bringing the model's accurracy that much closer to perfection."
   ]
  },
  {
   "cell_type": "markdown",
   "metadata": {},
   "source": [
    "#### 9. Manual Testing"
   ]
  },
  {
   "cell_type": "markdown",
   "metadata": {},
   "source": [
    "Now, I'd like to test the model by composing an email myself and observing how it is labeled. I'll start by defining a function that accomplishes this."
   ]
  },
  {
   "cell_type": "code",
   "execution_count": 10,
   "metadata": {},
   "outputs": [],
   "source": [
    "def predict_email(subject, message):\n",
    "    # Preprocess the subject and message\n",
    "    cleaned_subject = preprocess_text(subject)\n",
    "    cleaned_message = preprocess_text(message)\n",
    "    \n",
    "    # Combine cleaned subject and message\n",
    "    custom_email = cleaned_subject + ' ' + cleaned_message\n",
    "    \n",
    "    # Vectorize the combined email text\n",
    "    custom_email_vectorized = vectorizer.transform([custom_email]).toarray()\n",
    "    \n",
    "    # Make a prediction using the best model\n",
    "    prediction = best_model.predict(custom_email_vectorized)\n",
    "    \n",
    "    # Return the label corresponding to the predicted class\n",
    "    return le.inverse_transform(prediction)[0]"
   ]
  },
  {
   "cell_type": "markdown",
   "metadata": {},
   "source": [
    "Everything is ready for testing now. Feel free to modify the inputs and explore how it works!"
   ]
  },
  {
   "cell_type": "code",
   "execution_count": 11,
   "metadata": {},
   "outputs": [
    {
     "name": "stdout",
     "output_type": "stream",
     "text": [
      "The email is predicted to be: spam.\n"
     ]
    }
   ],
   "source": [
    "# Test the email prediction function with a sample subject and message. Try it yourself!\n",
    "result = predict_email(\"Buy our latest product!\", \"We invite you to buy our company's newest product!\")\n",
    "\n",
    "print(f\"The email is predicted to be: {result}.\")"
   ]
  },
  {
   "cell_type": "markdown",
   "metadata": {},
   "source": [
    "In this example the e-mail was correctly labled as <i>spam</i>.\n",
    "\n",
    "How did the model perform with your input?"
   ]
  },
  {
   "cell_type": "markdown",
   "metadata": {},
   "source": [
    "#### 10. Saving the Model and the Vectorizer for future use"
   ]
  },
  {
   "cell_type": "markdown",
   "metadata": {},
   "source": [
    "Now that the model is functioning and I've identified the best parameters, I would like to save it. This way, I don't have to undergo resource-intensive training each time I want to utilize its labeling capabilities. \n",
    "\n",
    "This task can be easily accomplished using the <i>joblib</i> library and it's function <i>dump</i>. Let's start by importing it."
   ]
  },
  {
   "cell_type": "code",
   "execution_count": null,
   "metadata": {},
   "outputs": [],
   "source": [
    "from joblib import dump"
   ]
  },
  {
   "cell_type": "markdown",
   "metadata": {},
   "source": [
    "Now, let's save both the <i>best_model</i> and the <i>vectorizer</i> using two simple commands shown below."
   ]
  },
  {
   "cell_type": "code",
   "execution_count": null,
   "metadata": {},
   "outputs": [],
   "source": [
    "# Save the trained model to a file for future use\n",
    "dump(best_model, 'spam_detection_best_model.joblib')\n",
    "\n",
    "# Save the vectorizer to a file for later access\n",
    "dump(vectorizer, 'vectorizer.joblib')"
   ]
  }
 ],
 "metadata": {
  "kernelspec": {
   "display_name": "base",
   "language": "python",
   "name": "python3"
  },
  "language_info": {
   "codemirror_mode": {
    "name": "ipython",
    "version": 3
   },
   "file_extension": ".py",
   "mimetype": "text/x-python",
   "name": "python",
   "nbconvert_exporter": "python",
   "pygments_lexer": "ipython3",
   "version": "3.12.7"
  }
 },
 "nbformat": 4,
 "nbformat_minor": 2
}
