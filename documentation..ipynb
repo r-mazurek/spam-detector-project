{
 "cells": [
  {
   "cell_type": "markdown",
   "metadata": {},
   "source": [
    "<div align=\"center\"><b><h3>Spam Email Detector - Personal Project</h3></b></div>\n",
    "\n",
    "#### Introduction\n",
    "Here goes the introduction of the personal project\n",
    "#### First steps\n",
    "Here goes the explanation of the first steps I took and why"
   ]
  }
 ],
 "metadata": {
  "kernelspec": {
   "display_name": "base",
   "language": "python",
   "name": "python3"
  },
  "language_info": {
   "name": "python",
   "version": "3.12.7"
  }
 },
 "nbformat": 4,
 "nbformat_minor": 2
}
